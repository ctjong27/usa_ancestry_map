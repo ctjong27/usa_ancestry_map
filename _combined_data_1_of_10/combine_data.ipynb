{
 "cells": [
  {
   "cell_type": "code",
   "execution_count": null,
   "metadata": {},
   "outputs": [],
   "source": [
    "import glob\n",
    "import pandas as pd\n",
    "\n",
    "# Find all files matching the pattern\n",
    "files = glob.glob('dots_data_*.csv')\n",
    "\n",
    "# Initialize an empty list to store the dataframes\n",
    "data_frames = []\n",
    "\n",
    "# Iterate over each file and append the data to the list\n",
    "for file in files:\n",
    "    print(file)\n",
    "    data = pd.read_csv(file, names=['column', 'latitude', 'longitude'])\n",
    "    data_frames.append(data)\n",
    "\n",
    "# Concatenate all dataframes in the list into a single dataframe\n",
    "appended_data = pd.concat(data_frames, ignore_index=True)\n",
    "\n",
    "# Print the appended data\n",
    "print(appended_data)\n",
    "\n",
    "appended_data.to_csv('dots_data_all_ancestry.csv', index=False)"
   ]
  }
 ],
 "metadata": {
  "language_info": {
   "name": "python"
  }
 },
 "nbformat": 4,
 "nbformat_minor": 2
}
