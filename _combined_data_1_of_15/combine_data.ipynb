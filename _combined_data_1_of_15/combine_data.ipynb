{
 "cells": [
  {
   "cell_type": "code",
   "execution_count": 8,
   "metadata": {},
   "outputs": [
    {
     "name": "stdout",
     "output_type": "stream",
     "text": [
      "dots_data_for_arabs.csv\n",
      "dots_data_for_asians.csv\n",
      "dots_data_for_hispanics_central_american.csv\n",
      "dots_data_for_hispanics_na_and_islands.csv\n",
      "dots_data_for_hispanics_south_american.csv\n",
      "dots_data_for_multiple_ancestries_a_i.csv\n",
      "dots_data_for_multiple_ancestries_j_z.csv\n",
      "dots_data_for_sub_saharan_africa.csv\n",
      "dots_data_for_west_indians.csv\n",
      "                   ancestry   latitude   longitude\n",
      "0                  Egyptian  33.588375  -85.968710\n",
      "1                  Egyptian  33.608776  -86.014794\n",
      "2                  Egyptian  33.594749  -85.936745\n",
      "3                  Egyptian  33.494139  -86.739137\n",
      "4                  Egyptian  33.513966  -86.719845\n",
      "...                     ...        ...         ...\n",
      "14438968  Other West Indian  32.722220  -97.567953\n",
      "14438969  Other West Indian  47.502626 -122.117300\n",
      "14438970  Other West Indian  43.405298  -90.831414\n",
      "14438971  Other West Indian  43.392216  -90.711369\n",
      "14438972  Other West Indian  43.036186  -88.010358\n",
      "\n",
      "[14438973 rows x 3 columns]\n"
     ]
    }
   ],
   "source": [
    "import glob\n",
    "import pandas as pd\n",
    "\n",
    "# Find all files matching the pattern\n",
    "files = glob.glob('dots_data_*.csv')\n",
    "\n",
    "# Initialize an empty list to store the dataframes\n",
    "data_frames = []\n",
    "\n",
    "# Iterate over each file and append the data to the list\n",
    "for i, file in enumerate(files):\n",
    "    print(file)\n",
    "    # if i == 0:\n",
    "    #     # Read the first file including the header\n",
    "    #     data = pd.read_csv(file, names=['column', 'latitude', 'longitude'])\n",
    "    # else:\n",
    "    #     # Read subsequent files without the header\n",
    "    data = pd.read_csv(file, names=['ancestry', 'latitude', 'longitude'], skiprows=1)\n",
    "    data_frames.append(data)\n",
    "\n",
    "# Concatenate all dataframes in the list into a single dataframe\n",
    "appended_data = pd.concat(data_frames, ignore_index=True)\n",
    "\n",
    "# Print the appended data\n",
    "print(appended_data)\n",
    "\n",
    "# Save the appended data to a new CSV file\n",
    "appended_data.to_csv('dots_data_all_ancestry.csv', index=False)\n"
   ]
  }
 ],
 "metadata": {
  "kernelspec": {
   "display_name": "geospatial_process",
   "language": "python",
   "name": "python3"
  },
  "language_info": {
   "codemirror_mode": {
    "name": "ipython",
    "version": 3
   },
   "file_extension": ".py",
   "mimetype": "text/x-python",
   "name": "python",
   "nbconvert_exporter": "python",
   "pygments_lexer": "ipython3",
   "version": "3.11.9"
  }
 },
 "nbformat": 4,
 "nbformat_minor": 2
}
