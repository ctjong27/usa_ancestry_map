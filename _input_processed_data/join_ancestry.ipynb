{
 "cells": [
  {
   "cell_type": "markdown",
   "metadata": {},
   "source": [
    "# Hispanic"
   ]
  },
  {
   "cell_type": "code",
   "execution_count": 1,
   "metadata": {},
   "outputs": [
    {
     "name": "stderr",
     "output_type": "stream",
     "text": [
      "c:\\Users\\cjong\\Projects\\geospatial\\ancestry_dot_map\\_input_processed_data\\join_processor.py:18: DtypeWarning: Columns (0,3,4,5,6,7,8,9,10,11,12,13,14,15,16,17,18,19,20,21,22,23,24,25,26,27,28,29,30,31,32,33,34,35,36,37,38,39,40,42,43,44,45,46,47,48,49,50,51,52,53,54,55,56,57,58,59,60,61,62,63,64,65,66,67,68,69,70,71,72,73,74,75,76,77,78,79,80,81,82,83,84,85,86,87,88,89,90,91,92,93,94,95,96,97,98,99,100,101,102,103,104,105,106,107,108,109,110,111,112,113,114,115,116,117,118,119,120,121,122,123,124,125,126,127,128,129,130,131,132,133,134,135,136,137,138,139,140,141,142,143,144,145,146,147,148,149,150,151,152,153,154,155,156,157,158,159,160,161,162,163,164,165,166,167,168,169,170,171,172,173,174,175,176,177,178,179,180,181,182,183,184,185,186,187,188,189,190,191,192,193,194,195,196,197,198,199,200,201,202,203,204,205,206,207,208,209,210,211,212,213,214,215,216,217,218,219,220,221,222,223,224,225,226,227,228,229,230,231,232,233,234,235,236,237,238,239,240,241) have mixed types. Specify dtype option on import or set low_memory=False.\n",
      "  ancestry_df = pd.read_csv(csv_file_path)\n",
      "c:\\Users\\cjong\\Projects\\geospatial\\ancestry_dot_map\\_input_processed_data\\join_processor.py:37: SettingWithCopyWarning: \n",
      "A value is trying to be set on a copy of a slice from a DataFrame.\n",
      "Try using .loc[row_indexer,col_indexer] = value instead\n",
      "\n",
      "See the caveats in the documentation: https://pandas.pydata.org/pandas-docs/stable/user_guide/indexing.html#returning-a-view-versus-a-copy\n",
      "  filtered_df[numeric_columns] = filtered_df[numeric_columns].apply(pd.to_numeric, errors='coerce')\n",
      "c:\\Users\\cjong\\Projects\\geospatial\\ancestry_dot_map\\_input_processed_data\\join_processor.py:44: SettingWithCopyWarning: \n",
      "A value is trying to be set on a copy of a slice from a DataFrame.\n",
      "Try using .loc[row_indexer,col_indexer] = value instead\n",
      "\n",
      "See the caveats in the documentation: https://pandas.pydata.org/pandas-docs/stable/user_guide/indexing.html#returning-a-view-versus-a-copy\n",
      "  filtered_df['FIPS'] = pd.to_numeric(filtered_df['FIPS'], errors='coerce').astype(np.int64)\n"
     ]
    },
    {
     "name": "stdout",
     "output_type": "stream",
     "text": [
      "Data exported to ..\\dots_data_for_hispanics_na_and_islands.csv\n"
     ]
    }
   ],
   "source": [
    "# Example usage\n",
    "from join_processor import process_census_data\n",
    "\n",
    "ancestries_columns = [\n",
    "\"Total Population: Hispanic or Latino: Mexican\",\n",
    "\"Total Population: Hispanic or Latino: Puerto Rican\",\n",
    "\"Total Population: Hispanic or Latino: Cuban\",\n",
    "\"Total Population: Hispanic or Latino: Dominican Republic\",\n",
    "]\n",
    "cutoff_keyword = \"Total Population: Hispanic or Latino: \"\n",
    "\n",
    "base_directory = '..'\n",
    "csv_file_name = 'R13669333_SL140.csv'\n",
    "shapefile_directory = 'cb_2022_us_tract_500k'\n",
    "output_file_name = 'dots_data_for_hispanics_na_and_islands.csv'\n",
    "\n",
    "process_census_data(ancestries_columns, base_directory, csv_file_name, shapefile_directory, output_file_name, cutoff_keyword)"
   ]
  },
  {
   "cell_type": "code",
   "execution_count": 2,
   "metadata": {},
   "outputs": [
    {
     "name": "stderr",
     "output_type": "stream",
     "text": [
      "c:\\Users\\cjong\\Projects\\geospatial\\ancestry_dot_map\\_input_processed_data\\join_processor.py:18: DtypeWarning: Columns (0,3,4,5,6,7,8,9,10,11,12,13,14,15,16,17,18,19,20,21,22,23,24,25,26,27,28,29,30,31,32,33,34,35,36,37,38,39,40,42,43,44,45,46,47,48,49,50,51,52,53,54,55,56,57,58,59,60,61,62,63,64,65,66,67,68,69,70,71,72,73,74,75,76,77,78,79,80,81,82,83,84,85,86,87,88,89,90,91,92,93,94,95,96,97,98,99,100,101,102,103,104,105,106,107,108,109,110,111,112,113,114,115,116,117,118,119,120,121,122,123,124,125,126,127,128,129,130,131,132,133,134,135,136,137,138,139,140,141,142,143,144,145,146,147,148,149,150,151,152,153,154,155,156,157,158,159,160,161,162,163,164,165,166,167,168,169,170,171,172,173,174,175,176,177,178,179,180,181,182,183,184,185,186,187,188,189,190,191,192,193,194,195,196,197,198,199,200,201,202,203,204,205,206,207,208,209,210,211,212,213,214,215,216,217,218,219,220,221,222,223,224,225,226,227,228,229,230,231,232,233,234,235,236,237,238,239,240,241) have mixed types. Specify dtype option on import or set low_memory=False.\n",
      "  ancestry_df = pd.read_csv(csv_file_path)\n",
      "c:\\Users\\cjong\\Projects\\geospatial\\ancestry_dot_map\\_input_processed_data\\join_processor.py:37: SettingWithCopyWarning: \n",
      "A value is trying to be set on a copy of a slice from a DataFrame.\n",
      "Try using .loc[row_indexer,col_indexer] = value instead\n",
      "\n",
      "See the caveats in the documentation: https://pandas.pydata.org/pandas-docs/stable/user_guide/indexing.html#returning-a-view-versus-a-copy\n",
      "  filtered_df[numeric_columns] = filtered_df[numeric_columns].apply(pd.to_numeric, errors='coerce')\n",
      "c:\\Users\\cjong\\Projects\\geospatial\\ancestry_dot_map\\_input_processed_data\\join_processor.py:44: SettingWithCopyWarning: \n",
      "A value is trying to be set on a copy of a slice from a DataFrame.\n",
      "Try using .loc[row_indexer,col_indexer] = value instead\n",
      "\n",
      "See the caveats in the documentation: https://pandas.pydata.org/pandas-docs/stable/user_guide/indexing.html#returning-a-view-versus-a-copy\n",
      "  filtered_df['FIPS'] = pd.to_numeric(filtered_df['FIPS'], errors='coerce').astype(np.int64)\n"
     ]
    },
    {
     "name": "stdout",
     "output_type": "stream",
     "text": [
      "Data exported to ..\\dots_data_for_hispanics_central_american.csv\n"
     ]
    }
   ],
   "source": [
    "# Example usage\n",
    "from join_processor import process_census_data\n",
    "\n",
    "ancestries_columns = [\n",
    "\"Total Population: Hispanic or Latino: Central American: Costa Rican\",\n",
    "\"Total Population: Hispanic or Latino: Central American: Guatemalan\",\n",
    "\"Total Population: Hispanic or Latino: Central American: Honduran\",\n",
    "\"Total Population: Hispanic or Latino: Central American: Nicaraguan\",\n",
    "\"Total Population: Hispanic or Latino: Central American: Panamanian\",\n",
    "\"Total Population: Hispanic or Latino: Central American: Salvadoran\",\n",
    "\"Total Population: Hispanic or Latino: Central American: Other Central American\",\n",
    "]\n",
    "cutoff_keyword = \"Total Population: Hispanic or Latino: Central American: \"\n",
    "\n",
    "base_directory = '..'\n",
    "csv_file_name = 'R13669333_SL140.csv'\n",
    "shapefile_directory = 'cb_2022_us_tract_500k'\n",
    "output_file_name = 'dots_data_for_hispanics_central_american.csv'\n",
    "\n",
    "process_census_data(ancestries_columns, base_directory, csv_file_name, shapefile_directory, output_file_name, cutoff_keyword)"
   ]
  },
  {
   "cell_type": "code",
   "execution_count": 3,
   "metadata": {},
   "outputs": [
    {
     "name": "stderr",
     "output_type": "stream",
     "text": [
      "c:\\Users\\cjong\\Projects\\geospatial\\ancestry_dot_map\\_input_processed_data\\join_processor.py:18: DtypeWarning: Columns (0,3,4,5,6,7,8,9,10,11,12,13,14,15,16,17,18,19,20,21,22,23,24,25,26,27,28,29,30,31,32,33,34,35,36,37,38,39,40,42,43,44,45,46,47,48,49,50,51,52,53,54,55,56,57,58,59,60,61,62,63,64,65,66,67,68,69,70,71,72,73,74,75,76,77,78,79,80,81,82,83,84,85,86,87,88,89,90,91,92,93,94,95,96,97,98,99,100,101,102,103,104,105,106,107,108,109,110,111,112,113,114,115,116,117,118,119,120,121,122,123,124,125,126,127,128,129,130,131,132,133,134,135,136,137,138,139,140,141,142,143,144,145,146,147,148,149,150,151,152,153,154,155,156,157,158,159,160,161,162,163,164,165,166,167,168,169,170,171,172,173,174,175,176,177,178,179,180,181,182,183,184,185,186,187,188,189,190,191,192,193,194,195,196,197,198,199,200,201,202,203,204,205,206,207,208,209,210,211,212,213,214,215,216,217,218,219,220,221,222,223,224,225,226,227,228,229,230,231,232,233,234,235,236,237,238,239,240,241) have mixed types. Specify dtype option on import or set low_memory=False.\n",
      "  ancestry_df = pd.read_csv(csv_file_path)\n",
      "c:\\Users\\cjong\\Projects\\geospatial\\ancestry_dot_map\\_input_processed_data\\join_processor.py:37: SettingWithCopyWarning: \n",
      "A value is trying to be set on a copy of a slice from a DataFrame.\n",
      "Try using .loc[row_indexer,col_indexer] = value instead\n",
      "\n",
      "See the caveats in the documentation: https://pandas.pydata.org/pandas-docs/stable/user_guide/indexing.html#returning-a-view-versus-a-copy\n",
      "  filtered_df[numeric_columns] = filtered_df[numeric_columns].apply(pd.to_numeric, errors='coerce')\n",
      "c:\\Users\\cjong\\Projects\\geospatial\\ancestry_dot_map\\_input_processed_data\\join_processor.py:44: SettingWithCopyWarning: \n",
      "A value is trying to be set on a copy of a slice from a DataFrame.\n",
      "Try using .loc[row_indexer,col_indexer] = value instead\n",
      "\n",
      "See the caveats in the documentation: https://pandas.pydata.org/pandas-docs/stable/user_guide/indexing.html#returning-a-view-versus-a-copy\n",
      "  filtered_df['FIPS'] = pd.to_numeric(filtered_df['FIPS'], errors='coerce').astype(np.int64)\n"
     ]
    },
    {
     "name": "stdout",
     "output_type": "stream",
     "text": [
      "Data exported to ..\\dots_data_for_hispanics_south_american.csv\n"
     ]
    }
   ],
   "source": [
    "# Example usage\n",
    "from join_processor import process_census_data\n",
    "\n",
    "ancestries_columns = [\n",
    "\"Total Population: Hispanic or Latino: South American: Argentinean\",\n",
    "\"Total Population: Hispanic or Latino: South American: Bolivian\",\n",
    "\"Total Population: Hispanic or Latino: South American: Chilean\",\n",
    "\"Total Population: Hispanic or Latino: South American: Colombian\",\n",
    "\"Total Population: Hispanic or Latino: South American: Ecuadorian\",\n",
    "\"Total Population: Hispanic or Latino: South American: Paraguayan\",\n",
    "\"Total Population: Hispanic or Latino: South American: Peruvian\",\n",
    "\"Total Population: Hispanic or Latino: South American: Uruguayan\",\n",
    "\"Total Population: Hispanic or Latino: South American: Venezuelan\",\n",
    "\"Total Population: Hispanic or Latino: South American: Other South American\",\n",
    "]\n",
    "cutoff_keyword = \"Total Population: Hispanic or Latino: South American: \"\n",
    "\n",
    "base_directory = '..'\n",
    "csv_file_name = 'R13669333_SL140.csv'\n",
    "shapefile_directory = 'cb_2022_us_tract_500k'\n",
    "output_file_name = 'dots_data_for_hispanics_south_american.csv'\n",
    "\n",
    "process_census_data(ancestries_columns, base_directory, csv_file_name, shapefile_directory, output_file_name, cutoff_keyword)"
   ]
  },
  {
   "cell_type": "markdown",
   "metadata": {},
   "source": [
    "# Asian"
   ]
  },
  {
   "cell_type": "code",
   "execution_count": 4,
   "metadata": {},
   "outputs": [
    {
     "name": "stderr",
     "output_type": "stream",
     "text": [
      "c:\\Users\\cjong\\Projects\\geospatial\\ancestry_dot_map\\_input_processed_data\\join_processor.py:18: DtypeWarning: Columns (0,3,4,5,6,7,8,9,10,11,12,13,14,15,16,17,18,19,20,21,22,23,24,25,26,27,28,29,30,31,32,33,34,35,36,37,38,39,40,42,43,44,45,46,47,48,49,50,51,52,53,54,55,56,57,58,59,60,61,62,63,64,65,66,67,68,69,70,71,72,73,74,75,76,77,78,79,80,81,82,83,84,85,86,87,88,89,90,91,92,93,94,95,96,97,98,99,100,101,102,103,104,105,106,107,108,109,110,111,112,113,114,115,116,117,118,119,120,121,122,123,124,125,126,127,128,129,130,131,132,133,134,135,136,137,138,139,140,141,142,143,144,145,146,147,148,149,150,151,152,153,154,155,156,157,158,159,160,161,162,163,164,165,166,167,168,169,170,171,172,173,174,175,176,177,178,179,180,181,182,183,184,185,186,187,188,189,190,191,192,193,194,195,196,197,198,199,200,201,202,203,204,205,206,207,208,209,210,211,212,213,214,215,216,217,218,219,220,221,222,223,224,225,226,227,228,229,230,231,232,233,234,235,236,237,238,239,240,241) have mixed types. Specify dtype option on import or set low_memory=False.\n",
      "  ancestry_df = pd.read_csv(csv_file_path)\n",
      "c:\\Users\\cjong\\Projects\\geospatial\\ancestry_dot_map\\_input_processed_data\\join_processor.py:37: SettingWithCopyWarning: \n",
      "A value is trying to be set on a copy of a slice from a DataFrame.\n",
      "Try using .loc[row_indexer,col_indexer] = value instead\n",
      "\n",
      "See the caveats in the documentation: https://pandas.pydata.org/pandas-docs/stable/user_guide/indexing.html#returning-a-view-versus-a-copy\n",
      "  filtered_df[numeric_columns] = filtered_df[numeric_columns].apply(pd.to_numeric, errors='coerce')\n",
      "c:\\Users\\cjong\\Projects\\geospatial\\ancestry_dot_map\\_input_processed_data\\join_processor.py:44: SettingWithCopyWarning: \n",
      "A value is trying to be set on a copy of a slice from a DataFrame.\n",
      "Try using .loc[row_indexer,col_indexer] = value instead\n",
      "\n",
      "See the caveats in the documentation: https://pandas.pydata.org/pandas-docs/stable/user_guide/indexing.html#returning-a-view-versus-a-copy\n",
      "  filtered_df['FIPS'] = pd.to_numeric(filtered_df['FIPS'], errors='coerce').astype(np.int64)\n"
     ]
    },
    {
     "name": "stdout",
     "output_type": "stream",
     "text": [
      "Data exported to ..\\dots_data_for_asians.csv\n"
     ]
    }
   ],
   "source": [
    "# Example usage\n",
    "from join_processor import process_census_data\n",
    "\n",
    "ancestries_columns = [\n",
    "\"Total: Asian Indian\",\n",
    "\"Total: Bangladeshi\",\n",
    "\"Total: Bhutanese\",\n",
    "\"Total: Burmese\",\n",
    "\"Total: Cambodian\",\n",
    "\"Total: Chinese, Except Taiwanese\",\n",
    "\"Total: Filipino\",\n",
    "\"Total: Hmong\",\n",
    "\"Total: Indonesian\",\n",
    "\"Total: Japanese\",\n",
    "\"Total: Korean\",\n",
    "\"Total: Laotian\",\n",
    "\"Total: Malaysian\",\n",
    "\"Total: Mongolian\",\n",
    "\"Total: Nepalese\",\n",
    "\"Total: Okinawan\",\n",
    "\"Total: Pakistani\",\n",
    "\"Total: Sri Lankan\",\n",
    "\"Total: Taiwanese\",\n",
    "\"Total: Thai\",\n",
    "\"Total: Vietnamese\",\n",
    "\"Total: Other Asian, Specified\",\n",
    "\"Total: Other Asian, Not Specified\",\n",
    "]\n",
    "cutoff_keyword = \"Total: \"\n",
    "\n",
    "base_directory = '..'\n",
    "csv_file_name = 'R13669333_SL140.csv'\n",
    "shapefile_directory = 'cb_2022_us_tract_500k'\n",
    "output_file_name = 'dots_data_for_asians.csv'\n",
    "\n",
    "process_census_data(ancestries_columns, base_directory, csv_file_name, shapefile_directory, output_file_name, cutoff_keyword)"
   ]
  },
  {
   "cell_type": "markdown",
   "metadata": {},
   "source": [
    "# Multiple Ancestries"
   ]
  },
  {
   "cell_type": "code",
   "execution_count": 5,
   "metadata": {},
   "outputs": [
    {
     "name": "stderr",
     "output_type": "stream",
     "text": [
      "c:\\Users\\cjong\\Projects\\geospatial\\ancestry_dot_map\\_input_processed_data\\join_processor.py:18: DtypeWarning: Columns (0,3,4,5,6,7,8,9,10,11,12,13,14,15,16,17,18,19,20,21,22,23,24,25,26,27,28,29,30,31,32,33,34,35,36,37,38,39,40,42,43,44,45,46,47,48,49,50,51,52,53,54,55,56,57,58,59,60,61,62,63,64,65,66,67,68,69,70,71,72,73,74,75,76,77,78,79,80,81,82,83,84,85,86,87,88,89,90,91,92,93,94,95,96,97,98,99,100,101,102,103,104,105,106,107,108,109,110,111,112,113,114,115,116,117,118,119,120,121,122,123,124,125,126,127,128,129,130,131,132,133,134,135,136,137,138,139,140,141,142,143,144,145,146,147,148,149,150,151,152,153,154,155,156,157,158,159,160,161,162,163,164,165,166,167,168,169,170,171,172,173,174,175,176,177,178,179,180,181,182,183,184,185,186,187,188,189,190,191,192,193,194,195,196,197,198,199,200,201,202,203,204,205,206,207,208,209,210,211,212,213,214,215,216,217,218,219,220,221,222,223,224,225,226,227,228,229,230,231,232,233,234,235,236,237,238,239,240,241) have mixed types. Specify dtype option on import or set low_memory=False.\n",
      "  ancestry_df = pd.read_csv(csv_file_path)\n",
      "c:\\Users\\cjong\\Projects\\geospatial\\ancestry_dot_map\\_input_processed_data\\join_processor.py:37: SettingWithCopyWarning: \n",
      "A value is trying to be set on a copy of a slice from a DataFrame.\n",
      "Try using .loc[row_indexer,col_indexer] = value instead\n",
      "\n",
      "See the caveats in the documentation: https://pandas.pydata.org/pandas-docs/stable/user_guide/indexing.html#returning-a-view-versus-a-copy\n",
      "  filtered_df[numeric_columns] = filtered_df[numeric_columns].apply(pd.to_numeric, errors='coerce')\n",
      "c:\\Users\\cjong\\Projects\\geospatial\\ancestry_dot_map\\_input_processed_data\\join_processor.py:44: SettingWithCopyWarning: \n",
      "A value is trying to be set on a copy of a slice from a DataFrame.\n",
      "Try using .loc[row_indexer,col_indexer] = value instead\n",
      "\n",
      "See the caveats in the documentation: https://pandas.pydata.org/pandas-docs/stable/user_guide/indexing.html#returning-a-view-versus-a-copy\n",
      "  filtered_df['FIPS'] = pd.to_numeric(filtered_df['FIPS'], errors='coerce').astype(np.int64)\n"
     ]
    },
    {
     "name": "stdout",
     "output_type": "stream",
     "text": [
      "Data exported to ..\\dots_data_for_multiple_ancestries_a_i.csv\n"
     ]
    }
   ],
   "source": [
    "# Example usage\n",
    "from join_processor import process_census_data\n",
    "\n",
    "ancestries_columns = [\n",
    "\"People Reporting Multiple Ancestries: Afghan\",\n",
    "\"People Reporting Multiple Ancestries: Albanian\",\n",
    "\"People Reporting Multiple Ancestries: Alsatian\",\n",
    "\"People Reporting Multiple Ancestries: American\",\n",
    "\"People Reporting Multiple Ancestries: Armenian\",\n",
    "\"People Reporting Multiple Ancestries: Assyrian/Chaldean/Syriac\",\n",
    "\"People Reporting Multiple Ancestries: Australian\",\n",
    "\"People Reporting Multiple Ancestries: Austrian\",\n",
    "\"People Reporting Multiple Ancestries: Basque\",\n",
    "\"People Reporting Multiple Ancestries: Belgian\",\n",
    "\"People Reporting Multiple Ancestries: Brazilian\",\n",
    "\"People Reporting Multiple Ancestries: British\",\n",
    "\"People Reporting Multiple Ancestries: Bulgarian\",\n",
    "\"People Reporting Multiple Ancestries: Cajun\",\n",
    "\"People Reporting Multiple Ancestries: Canadian\",\n",
    "\"People Reporting Multiple Ancestries: Carpatho Rusyn\",\n",
    "\"People Reporting Multiple Ancestries: Celtic\",\n",
    "\"People Reporting Multiple Ancestries: Croatian\",\n",
    "\"People Reporting Multiple Ancestries: Cypriot\",\n",
    "\"People Reporting Multiple Ancestries: Czech\",\n",
    "\"People Reporting Multiple Ancestries: Czechoslovakian\",\n",
    "\"People Reporting Multiple Ancestries: Danish\",\n",
    "\"People Reporting Multiple Ancestries: Dutch\",\n",
    "\"People Reporting Multiple Ancestries: Eastern European\",\n",
    "\"People Reporting Multiple Ancestries: English\",\n",
    "\"People Reporting Multiple Ancestries: Estonian\",\n",
    "\"People Reporting Multiple Ancestries: European\",\n",
    "\"People Reporting Multiple Ancestries: Finnish\",\n",
    "\"People Reporting Multiple Ancestries: French (Except Basque)\",\n",
    "\"People Reporting Multiple Ancestries: French Canadian\",\n",
    "\"People Reporting Multiple Ancestries: German\",\n",
    "\"People Reporting Multiple Ancestries: German Russian\",\n",
    "\"People Reporting Multiple Ancestries: Greek\",\n",
    "\"People Reporting Multiple Ancestries: Guyanese\",\n",
    "\"People Reporting Multiple Ancestries: Hungarian\",\n",
    "\"People Reporting Multiple Ancestries: Icelander\",\n",
    "\"People Reporting Multiple Ancestries: Iranian\",\n",
    "\"People Reporting Multiple Ancestries: Irish\",\n",
    "\"People Reporting Multiple Ancestries: Israeli\",\n",
    "\"People Reporting Multiple Ancestries: Italian\",\n",
    "]\n",
    "cutoff_keyword = \"People Reporting Multiple Ancestries: \"\n",
    "\n",
    "base_directory = '..'\n",
    "csv_file_name = 'R13669333_SL140.csv'\n",
    "shapefile_directory = 'cb_2022_us_tract_500k'\n",
    "output_file_name = 'dots_data_for_multiple_ancestries_a_i.csv'\n",
    "\n",
    "process_census_data(ancestries_columns, base_directory, csv_file_name, shapefile_directory, output_file_name, cutoff_keyword)"
   ]
  },
  {
   "cell_type": "code",
   "execution_count": 6,
   "metadata": {},
   "outputs": [
    {
     "name": "stderr",
     "output_type": "stream",
     "text": [
      "c:\\Users\\cjong\\Projects\\geospatial\\ancestry_dot_map\\_input_processed_data\\join_processor.py:18: DtypeWarning: Columns (0,3,4,5,6,7,8,9,10,11,12,13,14,15,16,17,18,19,20,21,22,23,24,25,26,27,28,29,30,31,32,33,34,35,36,37,38,39,40,42,43,44,45,46,47,48,49,50,51,52,53,54,55,56,57,58,59,60,61,62,63,64,65,66,67,68,69,70,71,72,73,74,75,76,77,78,79,80,81,82,83,84,85,86,87,88,89,90,91,92,93,94,95,96,97,98,99,100,101,102,103,104,105,106,107,108,109,110,111,112,113,114,115,116,117,118,119,120,121,122,123,124,125,126,127,128,129,130,131,132,133,134,135,136,137,138,139,140,141,142,143,144,145,146,147,148,149,150,151,152,153,154,155,156,157,158,159,160,161,162,163,164,165,166,167,168,169,170,171,172,173,174,175,176,177,178,179,180,181,182,183,184,185,186,187,188,189,190,191,192,193,194,195,196,197,198,199,200,201,202,203,204,205,206,207,208,209,210,211,212,213,214,215,216,217,218,219,220,221,222,223,224,225,226,227,228,229,230,231,232,233,234,235,236,237,238,239,240,241) have mixed types. Specify dtype option on import or set low_memory=False.\n",
      "  ancestry_df = pd.read_csv(csv_file_path)\n",
      "c:\\Users\\cjong\\Projects\\geospatial\\ancestry_dot_map\\_input_processed_data\\join_processor.py:37: SettingWithCopyWarning: \n",
      "A value is trying to be set on a copy of a slice from a DataFrame.\n",
      "Try using .loc[row_indexer,col_indexer] = value instead\n",
      "\n",
      "See the caveats in the documentation: https://pandas.pydata.org/pandas-docs/stable/user_guide/indexing.html#returning-a-view-versus-a-copy\n",
      "  filtered_df[numeric_columns] = filtered_df[numeric_columns].apply(pd.to_numeric, errors='coerce')\n",
      "c:\\Users\\cjong\\Projects\\geospatial\\ancestry_dot_map\\_input_processed_data\\join_processor.py:44: SettingWithCopyWarning: \n",
      "A value is trying to be set on a copy of a slice from a DataFrame.\n",
      "Try using .loc[row_indexer,col_indexer] = value instead\n",
      "\n",
      "See the caveats in the documentation: https://pandas.pydata.org/pandas-docs/stable/user_guide/indexing.html#returning-a-view-versus-a-copy\n",
      "  filtered_df['FIPS'] = pd.to_numeric(filtered_df['FIPS'], errors='coerce').astype(np.int64)\n"
     ]
    },
    {
     "name": "stdout",
     "output_type": "stream",
     "text": [
      "Data exported to ..\\dots_data_for_multiple_ancestries_j_z.csv\n"
     ]
    }
   ],
   "source": [
    "# Example usage\n",
    "from join_processor import process_census_data\n",
    "\n",
    "ancestries_columns = [\n",
    "\"People Reporting Multiple Ancestries: Latvian\",\n",
    "\"People Reporting Multiple Ancestries: Lithuanian\",\n",
    "\"People Reporting Multiple Ancestries: Luxemburger\",\n",
    "\"People Reporting Multiple Ancestries: Macedonian\",\n",
    "\"People Reporting Multiple Ancestries: Maltese\",\n",
    "\"People Reporting Multiple Ancestries: New Zealander\",\n",
    "\"People Reporting Multiple Ancestries: Northern European\",\n",
    "\"People Reporting Multiple Ancestries: Norwegian\",\n",
    "\"People Reporting Multiple Ancestries: Pennsylvania German\",\n",
    "\"People Reporting Multiple Ancestries: Polish\",\n",
    "\"People Reporting Multiple Ancestries: Portuguese\",\n",
    "\"People Reporting Multiple Ancestries: Romanian\",\n",
    "\"People Reporting Multiple Ancestries: Russian\",\n",
    "\"People Reporting Multiple Ancestries: Scandinavian\",\n",
    "\"People Reporting Multiple Ancestries: Scotch-Irish\",\n",
    "\"People Reporting Multiple Ancestries: Scottish\",\n",
    "\"People Reporting Multiple Ancestries: Serbian\",\n",
    "\"People Reporting Multiple Ancestries: Slavic\",\n",
    "\"People Reporting Multiple Ancestries: Slovak\",\n",
    "\"People Reporting Multiple Ancestries: Slovene\",\n",
    "\"People Reporting Multiple Ancestries: Soviet Union\",\n",
    "\"People Reporting Multiple Ancestries: Swedish\",\n",
    "\"People Reporting Multiple Ancestries: Swiss\",\n",
    "\"People Reporting Multiple Ancestries: Turkish\",\n",
    "\"People Reporting Multiple Ancestries: Ukrainian\",\n",
    "\"People Reporting Multiple Ancestries: Welsh\",\n",
    "\"People Reporting Multiple Ancestries: Yugoslavian\",\n",
    "\"People Reporting Multiple Ancestries: Other Groups\",\n",
    "]\n",
    "cutoff_keyword = \"People Reporting Multiple Ancestries: \"\n",
    "\n",
    "base_directory = '..'\n",
    "csv_file_name = 'R13669333_SL140.csv'\n",
    "shapefile_directory = 'cb_2022_us_tract_500k'\n",
    "output_file_name = 'dots_data_for_multiple_ancestries_j_z.csv'\n",
    "\n",
    "process_census_data(ancestries_columns, base_directory, csv_file_name, shapefile_directory, output_file_name, cutoff_keyword)"
   ]
  },
  {
   "cell_type": "markdown",
   "metadata": {},
   "source": [
    "# Sub-Saharan African"
   ]
  },
  {
   "cell_type": "code",
   "execution_count": 7,
   "metadata": {},
   "outputs": [
    {
     "name": "stderr",
     "output_type": "stream",
     "text": [
      "c:\\Users\\cjong\\Projects\\geospatial\\ancestry_dot_map\\_input_processed_data\\join_processor.py:18: DtypeWarning: Columns (0,3,4,5,6,7,8,9,10,11,12,13,14,15,16,17,18,19,20,21,22,23,24,25,26,27,28,29,30,31,32,33,34,35,36,37,38,39,40,42,43,44,45,46,47,48,49,50,51,52,53,54,55,56,57,58,59,60,61,62,63,64,65,66,67,68,69,70,71,72,73,74,75,76,77,78,79,80,81,82,83,84,85,86,87,88,89,90,91,92,93,94,95,96,97,98,99,100,101,102,103,104,105,106,107,108,109,110,111,112,113,114,115,116,117,118,119,120,121,122,123,124,125,126,127,128,129,130,131,132,133,134,135,136,137,138,139,140,141,142,143,144,145,146,147,148,149,150,151,152,153,154,155,156,157,158,159,160,161,162,163,164,165,166,167,168,169,170,171,172,173,174,175,176,177,178,179,180,181,182,183,184,185,186,187,188,189,190,191,192,193,194,195,196,197,198,199,200,201,202,203,204,205,206,207,208,209,210,211,212,213,214,215,216,217,218,219,220,221,222,223,224,225,226,227,228,229,230,231,232,233,234,235,236,237,238,239,240,241) have mixed types. Specify dtype option on import or set low_memory=False.\n",
      "  ancestry_df = pd.read_csv(csv_file_path)\n",
      "c:\\Users\\cjong\\Projects\\geospatial\\ancestry_dot_map\\_input_processed_data\\join_processor.py:37: SettingWithCopyWarning: \n",
      "A value is trying to be set on a copy of a slice from a DataFrame.\n",
      "Try using .loc[row_indexer,col_indexer] = value instead\n",
      "\n",
      "See the caveats in the documentation: https://pandas.pydata.org/pandas-docs/stable/user_guide/indexing.html#returning-a-view-versus-a-copy\n",
      "  filtered_df[numeric_columns] = filtered_df[numeric_columns].apply(pd.to_numeric, errors='coerce')\n",
      "c:\\Users\\cjong\\Projects\\geospatial\\ancestry_dot_map\\_input_processed_data\\join_processor.py:44: SettingWithCopyWarning: \n",
      "A value is trying to be set on a copy of a slice from a DataFrame.\n",
      "Try using .loc[row_indexer,col_indexer] = value instead\n",
      "\n",
      "See the caveats in the documentation: https://pandas.pydata.org/pandas-docs/stable/user_guide/indexing.html#returning-a-view-versus-a-copy\n",
      "  filtered_df['FIPS'] = pd.to_numeric(filtered_df['FIPS'], errors='coerce').astype(np.int64)\n"
     ]
    },
    {
     "name": "stdout",
     "output_type": "stream",
     "text": [
      "Data exported to ..\\dots_data_for_sub_saharan_africa.csv\n"
     ]
    }
   ],
   "source": [
    "# Example usage\n",
    "from join_processor import process_census_data\n",
    "\n",
    "ancestries_columns = [\n",
    "\"People Reporting Multiple Ancestries: Sub-Saharan African: Cape Verdean\",\n",
    "\"People Reporting Multiple Ancestries: Sub-Saharan African: Ethiopian\",\n",
    "\"People Reporting Multiple Ancestries: Sub-Saharan African: Ghanaian\",\n",
    "\"People Reporting Multiple Ancestries: Sub-Saharan African: Kenyan\",\n",
    "\"People Reporting Multiple Ancestries: Sub-Saharan African: Liberian\",\n",
    "\"People Reporting Multiple Ancestries: Sub-Saharan African: Nigerian\",\n",
    "\"People Reporting Multiple Ancestries: Sub-Saharan African: Senegalese\",\n",
    "\"People Reporting Multiple Ancestries: Sub-Saharan African: Sierra Leonean\",\n",
    "\"People Reporting Multiple Ancestries: Sub-Saharan African: Somali\",\n",
    "\"People Reporting Multiple Ancestries: Sub-Saharan African: South African\",\n",
    "\"People Reporting Multiple Ancestries: Sub-Saharan African: Sudanese\",\n",
    "\"People Reporting Multiple Ancestries: Sub-Saharan African: Ugandan\",\n",
    "\"People Reporting Multiple Ancestries: Sub-Saharan African: Zimbabwean\",\n",
    "\"People Reporting Multiple Ancestries: Sub-Saharan African: African\",\n",
    "\"People Reporting Multiple Ancestries: Sub-Saharan African: Other Sub-Saharan African\",\n",
    "]\n",
    "cutoff_keyword = \"People Reporting Multiple Ancestries: Sub-Saharan African: \"\n",
    "\n",
    "base_directory = '..'\n",
    "csv_file_name = 'R13669333_SL140.csv'\n",
    "shapefile_directory = 'cb_2022_us_tract_500k'\n",
    "output_file_name = 'dots_data_for_sub_saharan_africa.csv'\n",
    "\n",
    "process_census_data(ancestries_columns, base_directory, csv_file_name, shapefile_directory, output_file_name, cutoff_keyword)"
   ]
  },
  {
   "cell_type": "markdown",
   "metadata": {},
   "source": [
    "# West Indian"
   ]
  },
  {
   "cell_type": "code",
   "execution_count": 8,
   "metadata": {},
   "outputs": [
    {
     "name": "stderr",
     "output_type": "stream",
     "text": [
      "c:\\Users\\cjong\\Projects\\geospatial\\ancestry_dot_map\\_input_processed_data\\join_processor.py:18: DtypeWarning: Columns (0,3,4,5,6,7,8,9,10,11,12,13,14,15,16,17,18,19,20,21,22,23,24,25,26,27,28,29,30,31,32,33,34,35,36,37,38,39,40,42,43,44,45,46,47,48,49,50,51,52,53,54,55,56,57,58,59,60,61,62,63,64,65,66,67,68,69,70,71,72,73,74,75,76,77,78,79,80,81,82,83,84,85,86,87,88,89,90,91,92,93,94,95,96,97,98,99,100,101,102,103,104,105,106,107,108,109,110,111,112,113,114,115,116,117,118,119,120,121,122,123,124,125,126,127,128,129,130,131,132,133,134,135,136,137,138,139,140,141,142,143,144,145,146,147,148,149,150,151,152,153,154,155,156,157,158,159,160,161,162,163,164,165,166,167,168,169,170,171,172,173,174,175,176,177,178,179,180,181,182,183,184,185,186,187,188,189,190,191,192,193,194,195,196,197,198,199,200,201,202,203,204,205,206,207,208,209,210,211,212,213,214,215,216,217,218,219,220,221,222,223,224,225,226,227,228,229,230,231,232,233,234,235,236,237,238,239,240,241) have mixed types. Specify dtype option on import or set low_memory=False.\n",
      "  ancestry_df = pd.read_csv(csv_file_path)\n",
      "c:\\Users\\cjong\\Projects\\geospatial\\ancestry_dot_map\\_input_processed_data\\join_processor.py:37: SettingWithCopyWarning: \n",
      "A value is trying to be set on a copy of a slice from a DataFrame.\n",
      "Try using .loc[row_indexer,col_indexer] = value instead\n",
      "\n",
      "See the caveats in the documentation: https://pandas.pydata.org/pandas-docs/stable/user_guide/indexing.html#returning-a-view-versus-a-copy\n",
      "  filtered_df[numeric_columns] = filtered_df[numeric_columns].apply(pd.to_numeric, errors='coerce')\n",
      "c:\\Users\\cjong\\Projects\\geospatial\\ancestry_dot_map\\_input_processed_data\\join_processor.py:44: SettingWithCopyWarning: \n",
      "A value is trying to be set on a copy of a slice from a DataFrame.\n",
      "Try using .loc[row_indexer,col_indexer] = value instead\n",
      "\n",
      "See the caveats in the documentation: https://pandas.pydata.org/pandas-docs/stable/user_guide/indexing.html#returning-a-view-versus-a-copy\n",
      "  filtered_df['FIPS'] = pd.to_numeric(filtered_df['FIPS'], errors='coerce').astype(np.int64)\n"
     ]
    },
    {
     "name": "stdout",
     "output_type": "stream",
     "text": [
      "Data exported to ..\\dots_data_for_west_indians.csv\n"
     ]
    }
   ],
   "source": [
    "# Example usage\n",
    "from join_processor import process_census_data\n",
    "\n",
    "ancestries_columns = [\n",
    "\"People Reporting Multiple Ancestries: West Indian (Except Hispanic Groups): Bahamian\",\n",
    "\"People Reporting Multiple Ancestries: West Indian (Except Hispanic Groups): Barbadian\",\n",
    "\"People Reporting Multiple Ancestries: West Indian (Except Hispanic Groups): Belizean\",\n",
    "\"People Reporting Multiple Ancestries: West Indian (Except Hispanic Groups): Bermudan\",\n",
    "\"People Reporting Multiple Ancestries: West Indian (Except Hispanic Groups): British West Indian\",\n",
    "\"People Reporting Multiple Ancestries: West Indian (Except Hispanic Groups): Dutch West Indian\",\n",
    "\"People Reporting Multiple Ancestries: West Indian (Except Hispanic Groups): Haitian\",\n",
    "\"People Reporting Multiple Ancestries: West Indian (Except Hispanic Groups): Jamaican\",\n",
    "\"People Reporting Multiple Ancestries: West Indian (Except Hispanic Groups): Trinidadian and Tobagonian\",\n",
    "\"People Reporting Multiple Ancestries: West Indian (Except Hispanic Groups): U.S. VirgIn Islander\",\n",
    "\"People Reporting Multiple Ancestries: West Indian (Except Hispanic Groups): West Indian\",\n",
    "\"People Reporting Multiple Ancestries: West Indian (Except Hispanic Groups): Other West Indian\",\n",
    "]\n",
    "cutoff_keyword = \"People Reporting Multiple Ancestries: West Indian (Except Hispanic Groups): \"\n",
    "\n",
    "base_directory = '..'\n",
    "csv_file_name = 'R13669333_SL140.csv'\n",
    "shapefile_directory = 'cb_2022_us_tract_500k'\n",
    "output_file_name = 'dots_data_for_west_indians.csv'\n",
    "\n",
    "process_census_data(ancestries_columns, base_directory, csv_file_name, shapefile_directory, output_file_name, cutoff_keyword)"
   ]
  },
  {
   "cell_type": "markdown",
   "metadata": {},
   "source": [
    "# Arabs"
   ]
  },
  {
   "cell_type": "code",
   "execution_count": 9,
   "metadata": {},
   "outputs": [
    {
     "name": "stderr",
     "output_type": "stream",
     "text": [
      "c:\\Users\\cjong\\Projects\\geospatial\\ancestry_dot_map\\_input_processed_data\\join_processor.py:18: DtypeWarning: Columns (0,3,4,5,6,7,8,9,10,11,12,13,14,15,16,17,18,19,20,21,22,23,24,25,26,27,28,29,30,31,32,33,34,35,36,37,38,39,40,42,43,44,45,46,47,48,49,50,51,52,53,54,55,56,57,58,59,60,61,62,63,64,65,66,67,68,69,70,71,72,73,74,75,76,77,78,79,80,81,82,83,84,85,86,87,88,89,90,91,92,93,94,95,96,97,98,99,100,101,102,103,104,105,106,107,108,109,110,111,112,113,114,115,116,117,118,119,120,121,122,123,124,125,126,127,128,129,130,131,132,133,134,135,136,137,138,139,140,141,142,143,144,145,146,147,148,149,150,151,152,153,154,155,156,157,158,159,160,161,162,163,164,165,166,167,168,169,170,171,172,173,174,175,176,177,178,179,180,181,182,183,184,185,186,187,188,189,190,191,192,193,194,195,196,197,198,199,200,201,202,203,204,205,206,207,208,209,210,211,212,213,214,215,216,217,218,219,220,221,222,223,224,225,226,227,228,229,230,231,232,233,234,235,236,237,238,239,240,241) have mixed types. Specify dtype option on import or set low_memory=False.\n",
      "  ancestry_df = pd.read_csv(csv_file_path)\n",
      "c:\\Users\\cjong\\Projects\\geospatial\\ancestry_dot_map\\_input_processed_data\\join_processor.py:37: SettingWithCopyWarning: \n",
      "A value is trying to be set on a copy of a slice from a DataFrame.\n",
      "Try using .loc[row_indexer,col_indexer] = value instead\n",
      "\n",
      "See the caveats in the documentation: https://pandas.pydata.org/pandas-docs/stable/user_guide/indexing.html#returning-a-view-versus-a-copy\n",
      "  filtered_df[numeric_columns] = filtered_df[numeric_columns].apply(pd.to_numeric, errors='coerce')\n",
      "c:\\Users\\cjong\\Projects\\geospatial\\ancestry_dot_map\\_input_processed_data\\join_processor.py:44: SettingWithCopyWarning: \n",
      "A value is trying to be set on a copy of a slice from a DataFrame.\n",
      "Try using .loc[row_indexer,col_indexer] = value instead\n",
      "\n",
      "See the caveats in the documentation: https://pandas.pydata.org/pandas-docs/stable/user_guide/indexing.html#returning-a-view-versus-a-copy\n",
      "  filtered_df['FIPS'] = pd.to_numeric(filtered_df['FIPS'], errors='coerce').astype(np.int64)\n"
     ]
    },
    {
     "name": "stdout",
     "output_type": "stream",
     "text": [
      "Data exported to ..\\dots_data_for_arabs.csv\n"
     ]
    }
   ],
   "source": [
    "# Example usage\n",
    "from join_processor import process_census_data\n",
    "\n",
    "ancestries_columns = [\n",
    "\"People Reporting Multiple Ancestries: Arab: Egyptian\",\n",
    "\"People Reporting Multiple Ancestries: Arab: Iraqi\",\n",
    "\"People Reporting Multiple Ancestries: Arab: Jordanian\",\n",
    "\"People Reporting Multiple Ancestries: Arab: Lebanese\",\n",
    "\"People Reporting Multiple Ancestries: Arab: Moroccan\",\n",
    "\"People Reporting Multiple Ancestries: Arab: Palestinian\",\n",
    "\"People Reporting Multiple Ancestries: Arab: Syrian\",\n",
    "\"People Reporting Multiple Ancestries: Arab: Arab\",\n",
    "\"People Reporting Multiple Ancestries: Arab: Other Arab\",\n",
    "]\n",
    "cutoff_keyword = \"People Reporting Multiple Ancestries: Arab: \"\n",
    "\n",
    "base_directory = '..'\n",
    "csv_file_name = 'R13669333_SL140.csv'\n",
    "shapefile_directory = 'cb_2022_us_tract_500k'\n",
    "output_file_name = 'dots_data_for_arabs.csv'\n",
    "\n",
    "process_census_data(ancestries_columns, base_directory, csv_file_name, shapefile_directory, output_file_name, cutoff_keyword)"
   ]
  },
  {
   "cell_type": "code",
   "execution_count": null,
   "metadata": {},
   "outputs": [],
   "source": []
  }
 ],
 "metadata": {
  "kernelspec": {
   "display_name": "geospatial_process",
   "language": "python",
   "name": "python3"
  },
  "language_info": {
   "codemirror_mode": {
    "name": "ipython",
    "version": 3
   },
   "file_extension": ".py",
   "mimetype": "text/x-python",
   "name": "python",
   "nbconvert_exporter": "python",
   "pygments_lexer": "ipython3",
   "version": "3.11.9"
  }
 },
 "nbformat": 4,
 "nbformat_minor": 2
}
